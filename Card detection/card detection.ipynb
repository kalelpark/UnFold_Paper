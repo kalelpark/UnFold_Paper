{
 "cells": [
  {
   "cell_type": "code",
   "execution_count": 4,
   "id": "990d947b",
   "metadata": {},
   "outputs": [],
   "source": [
    "import cv2\n",
    "import matplotlib.pyplot as plt\n",
    "\n",
    "img = cv2.imread('card.png')\n",
    "\n",
    "target_img = img.copy()\n",
    "\n",
    "gray = cv2.cvtColor(img, cv2.COLOR_BGR2GRAY)\n",
    "\n",
    "ret, otsu = cv2.threshold(gray, -1, 255, cv2.THRESH_BINARY | cv2.THRESH_OTSU)\n",
    "contours, hierarchy = cv2.findContours(otsu, cv2.RETR_LIST, cv2.CHAIN_APPROX_NONE)\n",
    "\n",
    "\n",
    "for count, cnt in enumerate(contours):\n",
    "    if cv2.contourArea(cnt)  > 25000:\n",
    "        x, y, width, height = cv2.boundingRect(cnt)\n",
    "        \n",
    "#         cv2.rectangle(target_img, (x, y), (x + width, y + height), (0, 255, 255), 2, cv2.LINE_AA)        \n",
    "        crop = target_img[y : y + height, x : x + width]\n",
    "        \n",
    "        cv2.imwrite(f'card_crop{count}.png', crop)\n",
    "        "
   ]
  },
  {
   "cell_type": "code",
   "execution_count": null,
   "id": "be8e93a4",
   "metadata": {},
   "outputs": [],
   "source": []
  }
 ],
 "metadata": {
  "kernelspec": {
   "display_name": "Python 3 (ipykernel)",
   "language": "python",
   "name": "python3"
  },
  "language_info": {
   "codemirror_mode": {
    "name": "ipython",
    "version": 3
   },
   "file_extension": ".py",
   "mimetype": "text/x-python",
   "name": "python",
   "nbconvert_exporter": "python",
   "pygments_lexer": "ipython3",
   "version": "3.9.7"
  }
 },
 "nbformat": 4,
 "nbformat_minor": 5
}
