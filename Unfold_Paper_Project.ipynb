{
 "cells": [
  {
   "cell_type": "code",
   "execution_count": null,
   "id": "ca767c9c",
   "metadata": {
    "scrolled": false
   },
   "outputs": [],
   "source": [
    "import cv2\n",
    "import numpy as np\n",
    "\n",
    "def show_result():\n",
    "    width, height = 640, 240\n",
    "    \n",
    "    src = np.float32(point_list)\n",
    "    dst = np.array([[0, 0], [width, 0], [width, height], [0, height]], np.float32)\n",
    "    \n",
    "    matrix = cv2.getPerspectiveTransform(src, dst)\n",
    "    result = cv2.warpPerspective(src_img, matrix, (width, height))\n",
    "    \n",
    "    ㅊㅍ\n",
    "    cv2.imshow('result', result)\n",
    "\n",
    "\n",
    "def mouse_handler(event, x, y, flags, params):\n",
    "    \n",
    "    dst_img = src_img.copy()\n",
    "    global drawing\n",
    "    \n",
    "    if event == cv2.EVENT_LBUTTONDOWN:\n",
    "        drawing = True\n",
    "        point_list.append((x, y))\n",
    "    \n",
    "    if drawing:\n",
    "        prev_dot = None\n",
    "        # 계속 반복하는 구조\n",
    "        for point in point_list:\n",
    "            cv2.circle(dst_img, point, 2, COLOR, cv2.FILLED)\n",
    "            if prev_dot:\n",
    "                cv2.line(dst_img, prev_dot, point, COLOR, THICKNESS, cv2.LINE_AA)\n",
    "            prev_dot = point\n",
    "        \n",
    "        next_point = (x, y)\n",
    "        if len(point_list) == 4:\n",
    "            show_result()\n",
    "            next_point = point_list[0]\n",
    "        \n",
    "        cv2.line(dst_img, prev_dot, next_point, COLOR, THICKNESS, cv2.LINE_AA)\n",
    "        \n",
    "    cv2.imshow('img', dst_img)\n",
    "    \n",
    "    \n",
    "src_img = cv2.imread('./newspaper.jpg')\n",
    "cv2.namedWindow('img')           # 내가 사용할 공간\n",
    "\n",
    "COLOR = (0, 255, 255)\n",
    "THICKNESS = 4\n",
    "drawing = False\n",
    "\n",
    "point_list = list()\n",
    "\n",
    "\n",
    "cv2.setMouseCallback('img', mouse_handler)\n",
    "cv2.imshow('img', src_img)\n",
    "cv2.waitKey(0)\n",
    "cv2.destroyAllWindows()"
   ]
  },
  {
   "cell_type": "code",
   "execution_count": null,
   "id": "20b7bf46",
   "metadata": {},
   "outputs": [],
   "source": []
  }
 ],
 "metadata": {
  "kernelspec": {
   "display_name": "Python 3 (ipykernel)",
   "language": "python",
   "name": "python3"
  },
  "language_info": {
   "codemirror_mode": {
    "name": "ipython",
    "version": 3
   },
   "file_extension": ".py",
   "mimetype": "text/x-python",
   "name": "python",
   "nbconvert_exporter": "python",
   "pygments_lexer": "ipython3",
   "version": "3.9.7"
  }
 },
 "nbformat": 4,
 "nbformat_minor": 5
}
